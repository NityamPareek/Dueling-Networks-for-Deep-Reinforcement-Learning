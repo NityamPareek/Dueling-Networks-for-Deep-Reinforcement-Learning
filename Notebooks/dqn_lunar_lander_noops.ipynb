{
  "cells": [
    {
      "cell_type": "code",
      "execution_count": 2,
      "id": "b5589652",
      "metadata": {
        "colab": {
          "base_uri": "https://localhost:8080/"
        },
        "id": "b5589652",
        "outputId": "828e40f6-c61a-4571-c257-a61a3793c4db"
      },
      "outputs": [
        {
          "data": {
            "text/plain": [
              "device(type='cpu')"
            ]
          },
          "execution_count": 2,
          "metadata": {},
          "output_type": "execute_result"
        }
      ],
      "source": [
        "import gymnasium as gym  # Updated from gym to gymnasium [1]\n",
        "from gymnasium import spaces\n",
        "from gymnasium.core import ActionWrapper, Wrapper\n",
        "import torch\n",
        "import torch.nn as nn\n",
        "import numpy as np\n",
        "from collections import deque\n",
        "import random\n",
        "from itertools import count\n",
        "import torch.nn.functional as F\n",
        "from torch.utils.tensorboard import SummaryWriter  # Updated tensorboard import [1]\n",
        "\n",
        "device = torch.device(\"cuda:0\" if torch.cuda.is_available() else \"cpu\")\n",
        "device"
      ]
    },
    {
      "cell_type": "code",
      "execution_count": 3,
      "id": "ef479220",
      "metadata": {
        "id": "ef479220"
      },
      "outputs": [],
      "source": [
        "class QNetwork(nn.Module):\n",
        "    def __init__(self, actions):\n",
        "        super().__init__()\n",
        "        self.fc1 = nn.Sequential(\n",
        "            nn.Linear(8, 128),\n",
        "            nn.ReLU(),\n",
        "            nn.Linear(128, 128),\n",
        "            nn.ReLU(),\n",
        "        )\n",
        "        self.fc2 = nn.Sequential(\n",
        "            nn.Linear(128, 64),  # Combines value/advantage intermediate layers\n",
        "            nn.ReLU(),\n",
        "            nn.Linear(64, 24)     # Direct action-value outputs\n",
        "        )\n",
        "\n",
        "    def forward(self, state):\n",
        "        x = self.fc1(state)\n",
        "        return self.fc2(x)\n",
        "\n",
        "    def select_action(self, state):\n",
        "        with torch.no_grad():\n",
        "            q_values = self(state)  # Direct call instead of forward() [1]\n",
        "            return torch.argmax(q_values).item()\n",
        "\n",
        "\n",
        "class Memory(deque):  # Simplified memory implementation [1]\n",
        "    def __init__(self, capacity):\n",
        "        super().__init__(maxlen=capacity)\n",
        "\n",
        "    def sample(self, batch_size):\n",
        "        return random.sample(self, batch_size)\n"
      ]
    },
    {
      "cell_type": "code",
      "execution_count": null,
      "id": "zilqGFxhtVhC",
      "metadata": {
        "id": "zilqGFxhtVhC"
      },
      "outputs": [],
      "source": [
        "# Define custom no-op actions\n",
        "class MultiNoOpWrapper(ActionWrapper):\n",
        "    def __init__(self, env: gym.Env, n_noop: int, noop_action: int = 0):\n",
        "        super().__init__(env)\n",
        "        assert isinstance(env.action_space, spaces.Discrete), \\\n",
        "               \"MultiNoOpWrapper only works for Discrete action spaces\"\n",
        "\n",
        "        self.orig_n     = env.action_space.n\n",
        "        self.n_noop     = n_noop\n",
        "        self.noop_action = noop_action\n",
        "\n",
        "        # extend the action space\n",
        "        self.action_space = spaces.Discrete(self.orig_n + self.n_noop)\n",
        "\n",
        "    def action(self, action: int) -> int:\n",
        "        # any new index ≥ orig_n becomes the no-op\n",
        "        if action >= self.orig_n:\n",
        "            return self.noop_action\n",
        "        return action"
      ]
    },
    {
      "cell_type": "code",
      "execution_count": 5,
      "id": "511fe0ee",
      "metadata": {
        "id": "511fe0ee"
      },
      "outputs": [],
      "source": [
        "# Updated environment creation [1]\n",
        "env = gym.make(\"LunarLander-v3\")\n",
        "env = MultiNoOpWrapper(env, n_noop=20, noop_action=0)\n",
        "n_state = env.observation_space.shape[0]\n",
        "\n",
        "online_net = QNetwork(24).to(device)\n",
        "target_net = QNetwork(24).to(device)\n",
        "target_net.load_state_dict(online_net.state_dict())\n",
        "\n",
        "optimizer = torch.optim.AdamW(online_net.parameters(), lr=1e-4)  # Modern optimizer [1]\n"
      ]
    },
    {
      "cell_type": "code",
      "execution_count": null,
      "id": "5c0d57b6",
      "metadata": {
        "id": "5c0d57b6"
      },
      "outputs": [],
      "source": [
        "BATCH_SIZE = 64\n",
        "NUM_EPISODES = 410\n",
        "UPDATE_INTERVAL = 4\n",
        "GAMMA = 0.99\n",
        "EPS_START = 0.5\n",
        "EPS_END = 0.01\n",
        "EPS_DECAY = (EPS_END/EPS_START)**(1.0/NUM_EPISODES*0.1)\n",
        "learning_steps = 0\n",
        "\n",
        "\n",
        "memory = Memory(50000)\n",
        "writer = SummaryWriter('logs/dqn/lunarlander_degraded')"
      ]
    },
    {
      "cell_type": "code",
      "execution_count": null,
      "id": "0379d39e",
      "metadata": {
        "colab": {
          "base_uri": "https://localhost:8080/"
        },
        "id": "0379d39e",
        "outputId": "1a248093-93c0-4a84-c04b-1e6c32c99de2"
      },
      "outputs": [
        {
          "name": "stderr",
          "output_type": "stream",
          "text": [
            "<ipython-input-7-eded81f30cb1>:32: UserWarning: Creating a tensor from a list of numpy.ndarrays is extremely slow. Please consider converting the list to a single numpy.ndarray with numpy.array() before converting to a tensor. (Triggered internally at /pytorch/torch/csrc/utils/tensor_new.cpp:254.)\n",
            "  states = torch.tensor(batch[0], dtype=torch.float32, device=device)\n"
          ]
        },
        {
          "name": "stdout",
          "output_type": "stream",
          "text": [
            "Epoch 0: Reward -137.53, epsilon 0.4973\n",
            "Epoch 10: Reward -155.31, epsilon 0.3687\n",
            "Epoch 20: Reward -125.11, epsilon 0.2690\n",
            "Epoch 30: Reward -160.09, epsilon 0.2061\n",
            "Epoch 40: Reward -195.41, epsilon 0.1457\n",
            "Epoch 50: Reward -113.30, epsilon 0.1120\n",
            "Epoch 60: Reward -176.44, epsilon 0.0828\n",
            "Epoch 70: Reward -141.58, epsilon 0.0646\n",
            "Epoch 80: Reward -205.65, epsilon 0.0420\n",
            "Epoch 90: Reward -180.59, epsilon 0.0264\n",
            "Epoch 100: Reward -189.74, epsilon 0.0135\n",
            "Epoch 110: Reward -437.99, epsilon 0.0100\n",
            "Epoch 120: Reward -105.25, epsilon 0.0100\n",
            "Epoch 130: Reward -190.42, epsilon 0.0100\n",
            "Epoch 140: Reward -73.26, epsilon 0.0100\n",
            "Epoch 150: Reward -420.90, epsilon 0.0100\n",
            "Epoch 160: Reward -123.62, epsilon 0.0100\n",
            "Epoch 170: Reward -57.65, epsilon 0.0100\n",
            "Epoch 180: Reward -101.56, epsilon 0.0100\n",
            "Epoch 190: Reward -146.65, epsilon 0.0100\n",
            "Epoch 200: Reward -30.00, epsilon 0.0100\n",
            "Epoch 210: Reward -61.16, epsilon 0.0100\n",
            "Epoch 220: Reward -69.34, epsilon 0.0100\n",
            "Epoch 230: Reward -61.28, epsilon 0.0100\n",
            "Epoch 240: Reward -27.12, epsilon 0.0100\n",
            "Epoch 250: Reward -35.07, epsilon 0.0100\n",
            "Epoch 260: Reward -48.69, epsilon 0.0100\n",
            "Epoch 270: Reward -53.92, epsilon 0.0100\n",
            "Epoch 280: Reward -21.48, epsilon 0.0100\n",
            "Epoch 290: Reward -19.52, epsilon 0.0100\n",
            "Epoch 300: Reward -28.06, epsilon 0.0100\n",
            "Epoch 310: Reward 14.75, epsilon 0.0100\n",
            "Epoch 320: Reward -39.44, epsilon 0.0100\n",
            "Epoch 330: Reward -37.02, epsilon 0.0100\n",
            "Epoch 340: Reward -43.80, epsilon 0.0100\n",
            "Epoch 350: Reward -24.07, epsilon 0.0100\n",
            "Epoch 360: Reward 18.94, epsilon 0.0100\n",
            "Epoch 370: Reward 9.27, epsilon 0.0100\n",
            "Epoch 380: Reward -5.27, epsilon 0.0100\n",
            "Epoch 390: Reward -3.37, epsilon 0.0100\n",
            "Epoch 400: Reward -31.48, epsilon 0.0100\n"
          ]
        }
      ],
      "source": [
        "epsilon = EPS_START\n",
        "episode_reward = 0\n",
        "\n",
        "for epoch in range(NUM_EPISODES):\n",
        "    state, _ = env.reset()  # Updated reset unpacking [1]\n",
        "    episode_reward = 0\n",
        "\n",
        "    for t in count():\n",
        "        # Epsilon-greedy action selection\n",
        "        if random.random() < epsilon:\n",
        "            action = env.action_space.sample()\n",
        "        else:\n",
        "            state_tensor = torch.tensor(state, dtype=torch.float32, device=device).unsqueeze(0)\n",
        "            action = online_net.select_action(state_tensor)\n",
        "\n",
        "        # Updated step returns unpacking [1]\n",
        "        next_state, reward, terminated, truncated, _ = env.step(action)\n",
        "        done = terminated or truncated\n",
        "        episode_reward += reward\n",
        "        memory.append((state, next_state, action, reward, done))\n",
        "\n",
        "        if len(memory) >= BATCH_SIZE:\n",
        "            # Experience replay\n",
        "            transitions = memory.sample(BATCH_SIZE)\n",
        "            batch = list(zip(*transitions))\n",
        "            learning_steps += 1\n",
        "\n",
        "            # Update target network\n",
        "            if learning_steps % UPDATE_INTERVAL == 0:\n",
        "                target_net.load_state_dict(online_net.state_dict())\n",
        "\n",
        "            states = torch.tensor(batch[0], dtype=torch.float32, device=device)\n",
        "            next_states = torch.tensor(batch[1], dtype=torch.float32, device=device)\n",
        "            actions = torch.tensor(batch[2], dtype=torch.long, device=device).unsqueeze(1)\n",
        "            rewards = torch.tensor(batch[3], dtype=torch.float32, device=device).unsqueeze(1)\n",
        "            dones = torch.tensor(batch[4], dtype=torch.float32, device=device).unsqueeze(1)\n",
        "\n",
        "            # Double DQN update\n",
        "            with torch.no_grad():\n",
        "                next_actions = online_net(next_states).argmax(1, keepdim=True)\n",
        "                target_q = target_net(next_states).gather(1, next_actions)\n",
        "                target = rewards + (1 - dones) * GAMMA * target_q\n",
        "\n",
        "            current_q = online_net(states).gather(1, actions)\n",
        "            loss = F.mse_loss(current_q, target)\n",
        "\n",
        "            optimizer.zero_grad()\n",
        "            loss.backward()\n",
        "            optimizer.step()\n",
        "\n",
        "            epsilon = max(epsilon * EPS_DECAY, EPS_END)\n",
        "\n",
        "\n",
        "        if done:\n",
        "            break\n",
        "        state = next_state\n",
        "\n",
        "    writer.add_scalar('episode_reward', episode_reward, epoch)\n",
        "\n",
        "    if epoch % 10 == 0:\n",
        "        torch.save(online_net.state_dict(), 'dqn-policy-lunar.pt')  # Updated file extension [1]\n",
        "        print(f'Epoch {epoch}: Reward {episode_reward:.2f}, epsilon {epsilon:.4f}')\n"
      ]
    },
    {
      "cell_type": "code",
      "execution_count": 8,
      "id": "f7ae52dc",
      "metadata": {
        "id": "f7ae52dc"
      },
      "outputs": [],
      "source": [
        "writer.close()"
      ]
    },
    {
      "cell_type": "code",
      "execution_count": 10,
      "id": "5546991c",
      "metadata": {
        "colab": {
          "base_uri": "https://localhost:8080/",
          "height": 564
        },
        "id": "5546991c",
        "outputId": "4fee4ace-3f59-44da-8a5f-8e6de35b90f9"
      },
      "outputs": [
        {
          "data": {
            "image/png": "[encoded data removed]",
            "text/plain": [
              "<Figure size 1000x600 with 1 Axes>"
            ]
          },
          "metadata": {},
          "output_type": "display_data"
        }
      ],
      "source": [
        "from tensorboard.backend.event_processing.event_accumulator import EventAccumulator\n",
        "import matplotlib.pyplot as plt\n",
        "\n",
        "event_acc = EventAccumulator('logs/dqn/lunarlander_degraded')\n",
        "event_acc.Reload()\n",
        "\n",
        "# Extract the reward vs. epoch data\n",
        "reward_events = event_acc.Scalars('episode_reward')\n",
        "epochs = [event.step for event in reward_events]\n",
        "rewards_dqn = [event.value for event in reward_events]\n",
        "rewards_dqn = np.convolve(rewards_dqn, np.ones(10)/10, mode='valid')\n",
        "\n",
        "\n",
        "\n",
        "# Plot the graph\n",
        "plt.figure(figsize=(10, 6))\n",
        "plt.plot(range(len(rewards_dqn)), rewards_dqn, label='DQN Avg Reward (10)', color='orange')\n",
        "plt.xlabel('Epoch')\n",
        "plt.ylabel('Reward')\n",
        "plt.title('lunarlander Reward vs. Epoch')\n",
        "plt.legend()\n",
        "plt.grid()\n",
        "plt.show()"
      ]
    },
    {
      "cell_type": "code",
      "execution_count": 12,
      "id": "c0bSRxbm1Rw1",
      "metadata": {
        "id": "c0bSRxbm1Rw1"
      },
      "outputs": [],
      "source": [
        "np.savetxt('dqn_rewards_20_noop.txt', rewards_dqn, fmt=\"%d\")"
      ]
    }
  ],
  "metadata": {
    "colab": {
      "provenance": []
    },
    "kernelspec": {
      "display_name": "Python 3",
      "language": "python",
      "name": "python3"
    },
    "language_info": {
      "codemirror_mode": {
        "name": "ipython",
        "version": 3
      },
      "file_extension": ".py",
      "mimetype": "text/x-python",
      "name": "python",
      "nbconvert_exporter": "python",
      "pygments_lexer": "ipython3",
      "version": "3.12.9"
    }
  },
  "nbformat": 4,
  "nbformat_minor": 5
}
